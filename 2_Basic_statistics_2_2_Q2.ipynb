{
  "nbformat": 4,
  "nbformat_minor": 0,
  "metadata": {
    "colab": {
      "provenance": []
    },
    "kernelspec": {
      "name": "python3",
      "display_name": "Python 3"
    },
    "language_info": {
      "name": "python"
    }
  },
  "cells": [
    {
      "cell_type": "code",
      "execution_count": 3,
      "metadata": {
        "id": "AfHmHffx7oIl"
      },
      "outputs": [],
      "source": [
        "from scipy import stats\n",
        "from scipy.stats import norm"
      ]
    },
    {
      "cell_type": "code",
      "source": [
        "# X>44, Employees older than 44 years\n",
        "p=1-stats.norm.cdf(44,38,6)\n",
        "p"
      ],
      "metadata": {
        "colab": {
          "base_uri": "https://localhost:8080/"
        },
        "id": "ALRuFkCW8B8I",
        "outputId": "34e537d8-b84f-41e5-c0c2-fe0b735b44a3"
      },
      "execution_count": 6,
      "outputs": [
        {
          "output_type": "execute_result",
          "data": {
            "text/plain": [
              "0.15865525393145707"
            ]
          },
          "metadata": {},
          "execution_count": 6
        }
      ]
    },
    {
      "cell_type": "code",
      "source": [
        "#38>X<44, Employees between 38 to 44 years of age\n",
        "p=stats.norm.cdf(44,38,6)-stats.norm.cdf(38,38,6)\n",
        "p"
      ],
      "metadata": {
        "colab": {
          "base_uri": "https://localhost:8080/"
        },
        "id": "-Qoc4p3O8oLk",
        "outputId": "d80e17bd-f262-45d9-dcfd-f81d4b6ff3a8"
      },
      "execution_count": 8,
      "outputs": [
        {
          "output_type": "execute_result",
          "data": {
            "text/plain": [
              "0.3413447460685429"
            ]
          },
          "metadata": {},
          "execution_count": 8
        }
      ]
    },
    {
      "cell_type": "code",
      "source": [
        "#(X<30); Employees under 30 yrs of age\n",
        "p=stats.norm.cdf(30,38,6)\n",
        "p"
      ],
      "metadata": {
        "colab": {
          "base_uri": "https://localhost:8080/"
        },
        "id": "z-CYop479Om-",
        "outputId": "9737df96-bf92-4516-fbbd-ea0fc523a103"
      },
      "execution_count": 10,
      "outputs": [
        {
          "output_type": "execute_result",
          "data": {
            "text/plain": [
              "0.09121121972586788"
            ]
          },
          "metadata": {},
          "execution_count": 10
        }
      ]
    },
    {
      "cell_type": "code",
      "source": [
        "# No. of employees attending training program from 400 nos\n",
        "p=400*stats.norm.cdf(30,38,6)\n",
        "p"
      ],
      "metadata": {
        "colab": {
          "base_uri": "https://localhost:8080/"
        },
        "id": "EnZTPxlb9k_h",
        "outputId": "2e3fc24d-04e9-4a82-d1bb-6595a049ead8"
      },
      "execution_count": 11,
      "outputs": [
        {
          "output_type": "execute_result",
          "data": {
            "text/plain": [
              "36.484487890347154"
            ]
          },
          "metadata": {},
          "execution_count": 11
        }
      ]
    }
  ]
}